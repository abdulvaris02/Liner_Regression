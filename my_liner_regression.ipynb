{
 "cells": [
  {
   "cell_type": "code",
   "execution_count": 5,
   "id": "ee9413a4",
   "metadata": {},
   "outputs": [],
   "source": [
    "import numpy as np\n",
    "import matplotlib.pyplot as plt"
   ]
  },
  {
   "cell_type": "code",
   "execution_count": 8,
   "id": "fc2ea78e",
   "metadata": {},
   "outputs": [],
   "source": [
    "# x = np.arange(-10,10)\n",
    "# x = x.reshape(20, 1)  \n",
    "# x = np.append(np.ones((20,1)), x, axis = 1)"
   ]
  },
  {
   "cell_type": "code",
   "execution_count": 26,
   "id": "b9340b01",
   "metadata": {},
   "outputs": [
    {
     "name": "stdout",
     "output_type": "stream",
     "text": [
      "31.85918944019391\n"
     ]
    },
    {
     "data": {
      "image/png": "[encoded data removed]",
      "text/plain": [
       "<Figure size 432x288 with 1 Axes>"
      ]
     },
     "metadata": {
      "needs_background": "light"
     },
     "output_type": "display_data"
    }
   ],
   "source": [
    "# dots = np.random.random(20)*8\n",
    "# y_dots = 1 + 2 *(x + dots)\n",
    "# y_pred = 8 +  2*x\n",
    "# plt.scatter(x, y_dots)\n",
    "# plt.plot(x, y_pred, 'r')\n",
    "# plt.grid()\n",
    "# print(mean_squared_error(y_dots, y_pred))"
   ]
  },
  {
   "cell_type": "code",
   "execution_count": 32,
   "id": "9d790f88",
   "metadata": {},
   "outputs": [],
   "source": [
    "theta = np.array([1, 2])\n",
    "def h(x, theta):\n",
    "    return np.dot(x, theta)\n"
   ]
  },
  {
   "cell_type": "code",
   "execution_count": null,
   "id": "b7a5650b",
   "metadata": {},
   "outputs": [],
   "source": [
    "y_predicted = h(x, theta)"
   ]
  },
  {
   "cell_type": "code",
   "execution_count": 15,
   "id": "b52bbe10",
   "metadata": {},
   "outputs": [],
   "source": [
    "def mean_squared_error(y_predicted, y_label):\n",
    "    return np.sum((y_predicted - y_label)**2)/len(y_label)"
   ]
  },
  {
   "cell_type": "code",
   "execution_count": 8,
   "id": "bf40f09d",
   "metadata": {},
   "outputs": [],
   "source": [
    "class LeastSquaresRegression():\n",
    "    def __init__(self,):\n",
    "        self.theta_ = None  \n",
    "        \n",
    "    def fit(self, X, y):\n",
    "        # Calculates theta that minimizes the MSE and updates self.theta_\n",
    "        #θ = (XT·X)-1·XT·y\n",
    "#         t_1 = np.linalg.inv(np.dot(X.T, X))\n",
    "#         t_2 = np.dot(X.T, y)\n",
    "        self.theta_ = np.dot(np.linalg.inv(np.dot(X.T, X)), np.dot(X.T, y))\n",
    "    \n",
    "        \n",
    "    def predict(self, X):\n",
    "        # Make predictions for data X, i.e output y = h(X) (See equation in Introduction)\n",
    "        return h(X, self.theta_)"
   ]
  },
  {
   "cell_type": "code",
   "execution_count": 28,
   "id": "3c40e369",
   "metadata": {},
   "outputs": [],
   "source": [
    "X = 4 * np.random.rand(100, 1)\n",
    "y = 10 + 2 * X + np.random.randn(100, 1)\n",
    "plt.scatter(X, y)"
   ]
  },
  {
   "cell_type": "code",
   "execution_count": 26,
   "id": "9104ca48",
   "metadata": {},
   "outputs": [
    {
     "name": "stdout",
     "output_type": "stream",
     "text": [
      "[[1.         2.19850072]\n",
      " [1.         1.38164406]\n",
      " [1.         0.33849648]\n",
      " [1.         2.80081842]\n",
      " [1.         2.34098561]\n",
      " [1.         1.93161437]\n",
      " [1.         0.8747791 ]\n",
      " [1.         0.40563015]\n",
      " [1.         3.87602842]\n",
      " [1.         2.32848356]\n",
      " [1.         1.24807418]\n",
      " [1.         0.58657667]\n",
      " [1.         0.60972165]\n",
      " [1.         0.29919976]\n",
      " [1.         0.42719749]\n",
      " [1.         2.41553242]\n",
      " [1.         3.17619668]\n",
      " [1.         0.55146988]\n",
      " [1.         2.05054447]\n",
      " [1.         1.93669728]\n",
      " [1.         1.62905849]\n",
      " [1.         0.57389714]\n",
      " [1.         2.63089437]\n",
      " [1.         1.53132143]\n",
      " [1.         0.41230082]\n",
      " [1.         2.97301167]\n",
      " [1.         2.79463137]\n",
      " [1.         3.75643935]\n",
      " [1.         0.92854353]\n",
      " [1.         0.83557614]\n",
      " [1.         1.13139653]\n",
      " [1.         2.68972217]\n",
      " [1.         3.79114208]\n",
      " [1.         2.48313673]\n",
      " [1.         2.13564966]\n",
      " [1.         1.33522962]\n",
      " [1.         0.71788498]\n",
      " [1.         3.45737087]\n",
      " [1.         3.00496669]\n",
      " [1.         3.32138891]\n",
      " [1.         2.05368508]\n",
      " [1.         1.04085972]\n",
      " [1.         1.93583928]\n",
      " [1.         1.82794599]\n",
      " [1.         3.09431178]\n",
      " [1.         3.31883617]\n",
      " [1.         3.04691601]\n",
      " [1.         1.59940351]\n",
      " [1.         2.94662747]\n",
      " [1.         2.80646213]\n",
      " [1.         3.29066104]\n",
      " [1.         3.08387608]\n",
      " [1.         3.93414648]\n",
      " [1.         3.51474458]\n",
      " [1.         0.41728195]\n",
      " [1.         0.11739759]\n",
      " [1.         3.03305132]\n",
      " [1.         2.66975924]\n",
      " [1.         2.07257366]\n",
      " [1.         1.76432923]\n",
      " [1.         2.30664662]\n",
      " [1.         0.76768874]\n",
      " [1.         1.45476636]\n",
      " [1.         1.82320858]\n",
      " [1.         0.76169194]\n",
      " [1.         3.83399445]\n",
      " [1.         3.04658698]\n",
      " [1.         0.88451311]\n",
      " [1.         1.02129329]\n",
      " [1.         1.00223257]\n",
      " [1.         1.30596672]\n",
      " [1.         2.42649078]\n",
      " [1.         2.2794274 ]\n",
      " [1.         1.61432681]\n",
      " [1.         0.91393884]\n",
      " [1.         0.36370052]\n",
      " [1.         2.63349689]\n",
      " [1.         1.34477397]\n",
      " [1.         2.59384088]\n",
      " [1.         3.66134705]\n",
      " [1.         3.78576214]\n",
      " [1.         0.14837053]\n",
      " [1.         3.27977653]\n",
      " [1.         3.91059676]\n",
      " [1.         2.8283549 ]\n",
      " [1.         2.12960193]\n",
      " [1.         2.40882884]\n",
      " [1.         3.98191335]\n",
      " [1.         2.35530183]\n",
      " [1.         1.86553855]\n",
      " [1.         0.59144437]\n",
      " [1.         0.33183791]\n",
      " [1.         3.71657726]\n",
      " [1.         0.26400213]\n",
      " [1.         3.84228555]\n",
      " [1.         2.27272082]\n",
      " [1.         2.76103799]\n",
      " [1.         0.70076558]\n",
      " [1.         1.19320309]\n",
      " [1.         1.83372581]]\n"
     ]
    }
   ],
   "source": [
    "X = 4 * np.random.rand(100, 1)\n",
    "\n",
    "def bias_column(X):\n",
    "    return np.append(np.ones((len(X),1)), X, axis = 1)\n",
    "\n",
    "X_new = bias_column(X)\n",
    "print(X[:5])\n",
    "print(\" ---- \")\n",
    "print(X_new[:5])\n"
   ]
  },
  {
   "cell_type": "code",
   "execution_count": 30,
   "id": "936c3ed1",
   "metadata": {},
   "outputs": [
    {
     "data": {
      "text/plain": [
       "array([[10.28997705],\n",
       "       [ 1.86632815]])"
      ]
     },
     "execution_count": 30,
     "metadata": {},
     "output_type": "execute_result"
    }
   ],
   "source": [
    "model = LeastSquaresRegression()\n",
    "model.fit(X_new, y)\n",
    "print(model.theta_)"
   ]
  },
  {
   "cell_type": "code",
   "execution_count": 38,
   "id": "c12e7523",
   "metadata": {},
   "outputs": [
    {
     "data": {
      "image/png": "[encoded data removed]",
      "text/plain": [
       "<Figure size 432x288 with 1 Axes>"
      ]
     },
     "metadata": {
      "needs_background": "light"
     },
     "output_type": "display_data"
    }
   ],
   "source": [
    "y_new = model.predict(X_new)\n",
    "\n",
    "def my_plot(X, y, y_new):\n",
    "    plt.scatter(X, y)\n",
    "    plt.plot(X_new[:, 1], y_new, 'r')\n",
    "    plt.grid()\n",
    "    \n",
    "\n",
    "my_plot(X, y, y_new)"
   ]
  },
  {
   "cell_type": "code",
   "execution_count": 1,
   "id": "66224e92",
   "metadata": {},
   "outputs": [],
   "source": [
    "class GradientDescentOptimizer():\n",
    "\n",
    "    def __init__(self, f, fprime, start, learning_rate = 0.1):\n",
    "        self.f_      = f                       # The function\n",
    "        self.fprime_ = fprime                  # The gradient of f\n",
    "        self.current_ = start                  # The current point being evaluated\n",
    "        self.learning_rate_ = learning_rate    # Does this need a comment ?\n",
    "\n",
    "        # Save history as attributes\n",
    "        self.history_ = start\n",
    "    \n",
    "    def step(self):\n",
    "        # Take a gradient descent step\n",
    "        # 1. Compute the new value and update selt.current_\n",
    "        self.current_ = self.current_ - self.learning_rate_*fprime(self.current_)\n",
    "        # 2. Append the new value to history\n",
    "        self.history_ = np.append(self.history_, self.current_, axis = 1)\n",
    "        # Does not return anything\n",
    "#         return  self.current_\n",
    "\n",
    "        \n",
    "    def optimize(self, iterations = 100):\n",
    "        # Use the gradient descent to get closer to the minimum:\n",
    "        # For each iteration, take a gradient step\n",
    "        for i in range(iterations):\n",
    "            self.step()\n",
    "\n",
    "    \n",
    "\n",
    "    def print_result(self):\n",
    "        print(\"Best theta found is \" + str(self.current_))\n",
    "        print(\"Value of f at this theta: f(theta) = \" + str(self.f_(self.current_)))\n",
    "        print(\"Value of f prime at this theta: f'(theta) = \" + str(self.fprime_(self.current_)))\n",
    "        return self.history_\n",
    "    def plot_it(self):\n",
    "        plt.plot(self.history_[0,:])\n",
    "        plt.plot(self.history_[1,:])"
   ]
  },
  {
   "cell_type": "code",
   "execution_count": 2,
   "id": "f8e1a20f",
   "metadata": {},
   "outputs": [],
   "source": [
    "def f(x):\n",
    "    a = np.array([[2],[6]])\n",
    "    return 3 + np.dot((x-a).T, (x-a))"
   ]
  },
  {
   "cell_type": "code",
   "execution_count": 3,
   "id": "f4e27c67",
   "metadata": {},
   "outputs": [],
   "source": [
    "def fprime(x):\n",
    "    a = np.array([[2],[6]])\n",
    "    return 2 * (x-a)"
   ]
  },
  {
   "cell_type": "code",
   "execution_count": 7,
   "id": "978d973c",
   "metadata": {},
   "outputs": [
    {
     "data": {
      "image/png": "[encoded data removed]",
      "text/plain": [
       "<Figure size 432x288 with 1 Axes>"
      ]
     },
     "metadata": {
      "needs_background": "light"
     },
     "output_type": "display_data"
    }
   ],
   "source": [
    "grad = GradientDescentOptimizer(f, fprime, np.random.normal(size=(2,1)), 0.1)\n",
    "grad.optimize(100)\n",
    "grad.step()\n",
    "grad.plot_it()"
   ]
  },
  {
   "cell_type": "code",
   "execution_count": 1,
   "id": "267c3356",
   "metadata": {},
   "outputs": [
    {
     "name": "stdout",
     "output_type": "stream",
     "text": [
      "\n",
      "\u001b[94m\n",
      " ██████╗ ██╗    ██╗ █████╗ ███████╗ █████╗ ██████╗    ██╗ ██████╗ \n",
      "██╔═══██╗██║    ██║██╔══██╗██╔════╝██╔══██╗██╔══██╗   ██║██╔═══██╗\n",
      "██║   ██║██║ █╗ ██║███████║███████╗███████║██████╔╝   ██║██║   ██║\n",
      "██║▄▄ ██║██║███╗██║██╔══██║╚════██║██╔══██║██╔══██╗   ██║██║   ██║\n",
      "╚██████╔╝╚███╔███╔╝██║  ██║███████║██║  ██║██║  ██║██╗██║╚██████╔╝\n",
      " ╚══▀▀═╝  ╚══╝╚══╝ ╚═╝  ╚═╝╚══════╝╚═╝  ╚═╝╚═╝  ╚═╝╚═╝╚═╝ ╚═════╝ \n",
      "\t\t\t\t\t\t\t\t\t\t\t\t\t\t\t\t\t\t\t\t\t\t\t\t\t\t\t\t\t\t\t\t \u001b[0m\n",
      "Booting Gandalf v3.2.1-c2fe00c (production)\n",
      "Loading parameters:  \u001b[32mOK\u001b[0m\n",
      "User xusanov_a connection: \u001b[32mOK\u001b[0m\n",
      "\n",
      "\n",
      "<MY_LINEAR_REGRESSION>\n",
      "Directory . exists: \u001b[32mOK\u001b[0m\n",
      "Pushing exercise: \u001b[32mOK\u001b[0m\n",
      "Printing your report:\n",
      "\n",
      " \u001b[97;1;40m     REPORT      \u001b[0m  \u001b[97mMY LINEAR REGRESSION\u001b[0m \n",
      "\n",
      " Status             \u001b[92mSUCCESS\u001b[0m              \n",
      " Execution Runtime  4.752479             \n",
      " Score              [\u001b[32m=\u001b[0m\u001b[32m=\u001b[0m\u001b[32m=\u001b[0m\u001b[32m=\u001b[0m\u001b[32m=\u001b[0m\u001b[32m=\u001b[0m\u001b[32m=\u001b[0m\u001b[32m=\u001b[0m\u001b[33m-\u001b[0m\u001b[33m-\u001b[0m] 8/10    \n",
      "\n",
      "\n",
      "Checks detail Report:\n",
      "\n",
      " \u001b[97;1;40mTEST BIAS COLUMN I\u001b[0m  \u001b[92mSUCCESS\u001b[0m \n",
      "\n",
      "\n",
      "\n",
      " \u001b[97;1;40mTEST BIAS COLUMN II\u001b[0m  \u001b[92mSUCCESS\u001b[0m \n",
      "\n",
      "\n",
      "\n",
      " \u001b[97;1;40mTEST CLASS GRADIENT DESCENT OPTIMIZER\u001b[0m  \u001b[91m                                                  FAILURE                                                  \u001b[0m \n",
      "\n",
      " Input                                                                                                                                              \n",
      " Expected Output                        \"\"                                                                                                          \n",
      " Expected Return Value                                                                                                                              \n",
      " Output                                     def test_class_gradient_descent_optimizer(self):                                                        \n",
      "                                                gdo = eg.GradientDescentOptimizer(TestAgent.f, TestAgent.f_prime, np.random.normal(size=(2,)), 0.1) \n",
      "                                                                                                                                                    \n",
      "                                                gdo.optimize(10)                                                                                    \n",
      "                                                user_values = gdo.getCurrentValue()                                                                 \n",
      "                                                                                                                                                    \n",
      "                                                self.assertTrue(1.5 < user_values[0])                                                               \n",
      "                                                self.assertTrue(user_values[0] < 1.9)                                                               \n",
      "                                                self.assertTrue(5.0 < user_values[1])                                                               \n",
      "                                                self.assertTrue(user_values[1] < 5.5)                                                               \n",
      "                                                                                                                                                    \n",
      " Return Value                                                                                                                                       \n",
      "\n",
      "Your Stderr:\n",
      "axis 1 is out of bounds for array of dimension 1\n",
      "\n",
      " \u001b[97;1;40mTEST CLASS GRADIENT DESCENT OPTIMIZER I\u001b[0m  \u001b[92mSUCCESS\u001b[0m \n",
      "\n",
      "\n",
      "\n",
      " \u001b[97;1;40mTEST CLASS LEAST SQUARES REGRESSION\u001b[0m  \u001b[92mSUCCESS\u001b[0m \n",
      "\n",
      "\n",
      "\n",
      " \u001b[97;1;40mTEST CLASS LEAST SQUARES REGRESSION PREDICT\u001b[0m  \u001b[92mSUCCESS\u001b[0m \n",
      "\n",
      "\n",
      "\n",
      " \u001b[97;1;40mTEST H FUNCTION I\u001b[0m  \u001b[92mSUCCESS\u001b[0m \n",
      "\n",
      "\n",
      "\n",
      " \u001b[97;1;40m TEST H FUNCTION II  \u001b[0m  \u001b[91m                                 FAILURE                                 \u001b[0m \n",
      "\n",
      " Input                                                                                            \n",
      " Expected Output        \"\"                                                                        \n",
      " Expected Return Value                                                                            \n",
      " Output                     def test_h_function_II(self):                                         \n",
      "                                x = np.array([[1,1],[1,2],[1,3]])                                 \n",
      "                                theta = np.array([1,2])                                           \n",
      "                                y_predicted = eg.h(x,theta)                                       \n",
      "                                                                                                  \n",
      "                                self.assertTrue((y_predicted == np.array([[3], [5], [7]])).all()) \n",
      "                                                                                                  \n",
      " Return Value                                                                                     \n",
      "\n",
      "Your Stderr:\n",
      "False is not true\n",
      "\n",
      " \u001b[97;1;40mTEST MEAN SQUARED ERROR I\u001b[0m  \u001b[92mSUCCESS\u001b[0m \n",
      "\n",
      "\n",
      "\n",
      " \u001b[97;1;40mTEST MEAN SQUARED ERROR II\u001b[0m  \u001b[92mSUCCESS\u001b[0m \n",
      "\n",
      "\n",
      "</MY_LINEAR_REGRESSION>\n"
     ]
    }
   ],
   "source": [
    "!gandalf"
   ]
  },
  {
   "cell_type": "code",
   "execution_count": null,
   "id": "176b222b",
   "metadata": {},
   "outputs": [],
   "source": []
  }
 ],
 "metadata": {
  "kernelspec": {
   "display_name": "Python 3",
   "language": "python",
   "name": "python3"
  },
  "language_info": {
   "codemirror_mode": {
    "name": "ipython",
    "version": 3
   },
   "file_extension": ".py",
   "mimetype": "text/x-python",
   "name": "python",
   "nbconvert_exporter": "python",
   "pygments_lexer": "ipython3",
   "version": "3.6.7"
  }
 },
 "nbformat": 4,
 "nbformat_minor": 5
}
